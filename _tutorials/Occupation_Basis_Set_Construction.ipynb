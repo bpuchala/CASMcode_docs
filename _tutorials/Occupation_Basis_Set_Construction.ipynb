{
 "cells": [
  {
   "cell_type": "markdown",
   "id": "3ff2b310",
   "metadata": {},
   "source": [
    "## Constructing a basis set (occupational DoF)"
   ]
  },
  {
   "cell_type": "markdown",
   "id": "2eee99c4",
   "metadata": {},
   "source": [
    "### Create a CASM project\n",
    "\n",
    "This example will begin with the same ZrO project used in the [Defining the \"prim\"](https://prisms-center.github.io/CASMcode_docs/pages/tutorials/#defining-the-prim) tutorial."
   ]
  },
  {
   "cell_type": "code",
   "execution_count": null,
   "id": "8db48e02",
   "metadata": {},
   "outputs": [],
   "source": [
    "prim_str='\n",
    "{\n",
    "  \"basis\" : [\n",
    "    {\n",
    "      \"coordinate\" : [ 0.0000000, 0.0000000, 0.0000000 ],\n",
    "      \"occupants\" : [ \"Zr\" ]\n",
    "    },\n",
    "    {\n",
    "      \"coordinate\" : [ 0.6666666667, 0.3333333333, 0.5000000 ],\n",
    "      \"occupants\" : [ \"Zr\" ]\n",
    "    },\n",
    "    {\n",
    "      \"coordinate\" : [ 0.3333333333, 0.6666666667, 0.2500000 ],\n",
    "      \"occupants\" : [ \"Va\", \"O\" ]\n",
    "    },\n",
    "    {\n",
    "      \"coordinate\" : [ 0.3333333333, 0.6666666667, 0.7500000 ],\n",
    "      \"occupants\" : [ \"Va\", \"O\" ]\n",
    "    }\n",
    "  ],\n",
    "  \"coordinate_mode\" : \"Fractional\",\n",
    "  \"description\" : \"hcp Zr with octahedral interstitial O \",\n",
    "  \"lattice_vectors\" : [\n",
    "    [ 3.23398686, 0.00000000, 0.00000000 ],\n",
    "    [ -1.61699343, 2.80071477, 0.00000000 ],\n",
    "    [ -0.00000000, 0.00000000, 5.16867834 ]\n",
    "  ],\n",
    "  \"title\" : \"ZrO\"\n",
    "}'"
   ]
  },
  {
   "cell_type": "code",
   "execution_count": null,
   "id": "480675a7",
   "metadata": {},
   "outputs": [],
   "source": [
    "start=$(pwd)\n",
    "mkdir -p $start/bset/ZrO && cd $start/bset/ZrO\n",
    "\n",
    "echo \"$prim_str\" > prim.json\n",
    "ccasm init"
   ]
  },
  {
   "cell_type": "markdown",
   "id": "b884da75",
   "metadata": {},
   "source": [
    "### The basis set specifications file (bspecs.json)\n",
    "\n",
    "A cluster expansion basis set is specified using:\n",
    "- [Basis Set Specs](https://prisms-center.github.io/CASMcode_docs/formats/casm/clex/ClexBasisSpecs/): Specifications, written in a \"bspecs.json\" file, consisting of two components:\n",
    "  - [Basis Function Specs](https://prisms-center.github.io/CASMcode_docs/formats/casm/basis_set/BasisFunctionSpecs/): Control the type and order of basis functions \n",
    "  - [Cluster Specs](https://prisms-center.github.io/CASMcode_docs/formats/casm/clusterography/ClusterSpecs/): Control which cluster basis functions are generated\n",
    "\n",
    "\n",
    "By default, the \"bspecs.json\" file is written to:\n",
    "\n",
    "    <root>/basis_sets/bset.default/bspecs.json\n",
    "    \n",
    "Where:\n",
    "- `<root>`: indicates the CASM project root directory\n",
    "- `bset.default`: indicates the choice of basis set\n",
    "  - The is a directory, prefixed with `bset.`, that allows CASM to track multiple basis sets in a single project.\n",
    "  - Use `casm settings` for creating additional basis sets and switching the current choice of basis set"
   ]
  },
  {
   "cell_type": "markdown",
   "id": "ad490db4",
   "metadata": {},
   "source": [
    "### Example \"bspecs.json\""
   ]
  },
  {
   "cell_type": "code",
   "execution_count": null,
   "id": "37398102",
   "metadata": {},
   "outputs": [],
   "source": [
    "bspecs_str='{\n",
    "  \"basis_function_specs\" : {\n",
    "    \"global_max_poly_order\": 3,\n",
    "    \"dof_specs\": {\n",
    "      \"occ\": {\n",
    "        \"site_basis_functions\" : \"occupation\"\n",
    "      }\n",
    "    }\n",
    "  },\n",
    "  \"cluster_specs\": {\n",
    "    \"method\": \"periodic_max_length\",\n",
    "    \"params\": {\n",
    "      \"orbit_branch_specs\": {\n",
    "        \"2\" : {\"max_length\" : 6.},\n",
    "        \"3\" : {\"max_length\" : 3.}\n",
    "      }\n",
    "    }\n",
    "  }\n",
    "}'"
   ]
  },
  {
   "cell_type": "code",
   "execution_count": null,
   "id": "ffc6dbef",
   "metadata": {},
   "outputs": [],
   "source": [
    "# create the bspecs.json file\n",
    "echo \"$bspecs_str\" > basis_sets/bset.default/bspecs.json\n",
    "\n",
    "# print the prim.json file contents\n",
    "cat basis_sets/bset.default/bspecs.json"
   ]
  },
  {
   "cell_type": "markdown",
   "id": "e4f62965",
   "metadata": {},
   "source": [
    "### Generate the basis set\n",
    "\n",
    "The `-u,--update` command:\n",
    "- Generates the basis set based on the current \"bspecs.json\" file\n",
    "- Writes C++ source code\n",
    "- Compiles the source code\n",
    "  - For large basis sets this may be slow, but it only has to be done once\n",
    "  - Use `--no-compile` to get basis set information without waiting for compilation\n",
    "- Use `-f,--force` to update and overwrite any existing generated files \n"
   ]
  },
  {
   "cell_type": "code",
   "execution_count": null,
   "id": "6b54f695",
   "metadata": {},
   "outputs": [],
   "source": [
    "ccasm bset -u"
   ]
  },
  {
   "cell_type": "markdown",
   "id": "7dde6663",
   "metadata": {},
   "source": [
    "### Print basis set properties - Basis functions\n",
    "\n",
    "Use `bset --functions` to print basis functions\n",
    "- This prints the basis functions for easy viewing\n",
    "  - It only prints the basis functions associated with the prototype cluster\n",
    "- Use `--align` to print nicely formatted formulas for Latex\n",
    "- The underlying data can be found in:\n",
    "  - The `basis.json` file:\n",
    "  \n",
    "        <root>/basis_sets/bset.default/basis.json\n",
    "        \n",
    "  - The generated source code for the \"clexulator\" (cluster expansion calculator):\n",
    "  \n",
    "        <root>/basis_sets/bset.default/ZrO_clexulator.cc\n",
    "- Use `--print-invariant-group` to print the symmetry operations that leave the prototype cluster function invariant\n",
    "\n",
    "\n",
    "**Notes:**\n",
    "- Occupation site basis functions are printed as:\n",
    "      \\phi_{b,i}(s_{j})\n",
    "  where:\n",
    "  - `b`: is the sublattice index\n",
    "  - `i`: is the site basis function index\n",
    "  - `s_{n}`: is the occupation value on the `j`-th site in the cluster (not the entire configurationn)\n",
    "- The constant site basis function is implicitly included only:\n",
    "  - A site with two allowed occupants will show as having 1 site basis function, with index 0\n",
    "  - A site with three allowed occupants will show as having 2 site basis functions, with indices [0, 1]\n",
    "  - etc."
   ]
  },
  {
   "cell_type": "code",
   "execution_count": null,
   "id": "276c0599",
   "metadata": {
    "scrolled": true
   },
   "outputs": [],
   "source": [
    "# print basis functions\n",
    "ccasm bset --functions"
   ]
  },
  {
   "cell_type": "markdown",
   "id": "f16a8945",
   "metadata": {},
   "source": [
    "### Print basis set properties - Clusters and cluster orbits\n",
    "\n",
    "- Use `--orbits` to print the generated cluster orbits for easy viewing\n",
    "- Use `--clusters` to print the generated clusters in each orbit\n",
    "- The underlying data can be found in:\n",
    "\n",
    "      <root>/basis_sets/bset.default/clust.json\n",
    "      \n",
    "- Use `--print-invariant-group` to print the symmetry operations that leave the prototype cluster invariant\n",
    "- Use `--print-equivalence-map` with `--clusters` to print the symmetry operations that map prototype cluster onto an equivalent cluster"
   ]
  },
  {
   "cell_type": "code",
   "execution_count": null,
   "id": "90fe48cb",
   "metadata": {},
   "outputs": [],
   "source": [
    "# print cluster orbits\n",
    "ccasm bset --clusters --print-invariant-group --print-equivalence-map"
   ]
  },
  {
   "cell_type": "code",
   "execution_count": null,
   "id": "a2b7117d",
   "metadata": {},
   "outputs": [],
   "source": [
    "# show the beginning of the clust.json file \n",
    "head basis_sets/bset.default/clust.json"
   ]
  },
  {
   "cell_type": "markdown",
   "id": "9ed154d2",
   "metadata": {},
   "source": [
    "### Evaluate correlations\n",
    "\n",
    "Use `casm select` and `casm query` to selection configuration in the CASM database and query correlations."
   ]
  },
  {
   "cell_type": "code",
   "execution_count": null,
   "id": "fb75733d",
   "metadata": {},
   "outputs": [],
   "source": [
    "# First, generate configurations to query\n",
    "# This enumerates unique configurations up to volume 4 unit cells\n",
    "ccasm enum -m ConfigEnumAllOccupations --max 4"
   ]
  },
  {
   "cell_type": "code",
   "execution_count": null,
   "id": "542ad70f",
   "metadata": {},
   "outputs": [],
   "source": [
    "# Select all configurations, and write the correlation matrix\n",
    "ccasm select --set-on"
   ]
  },
  {
   "cell_type": "code",
   "execution_count": null,
   "id": "3cb7796b",
   "metadata": {},
   "outputs": [],
   "source": [
    "# Query correlations ('corr') and output to corr.txt\n",
    "ccasm query -k corr -o corr.txt"
   ]
  },
  {
   "cell_type": "code",
   "execution_count": null,
   "id": "a9ce6ff7",
   "metadata": {},
   "outputs": [],
   "source": [
    "# View the beginning of the file containing the correlation matrix\n",
    "head corr.txt"
   ]
  },
  {
   "cell_type": "markdown",
   "id": "16521dd5",
   "metadata": {},
   "source": [
    "Clean up tutorial data:"
   ]
  },
  {
   "cell_type": "code",
   "execution_count": null,
   "id": "2f7770af",
   "metadata": {},
   "outputs": [],
   "source": [
    "cd $start && rm -r $start/bset"
   ]
  },
  {
   "cell_type": "code",
   "execution_count": null,
   "id": "7fc3d487",
   "metadata": {},
   "outputs": [],
   "source": []
  }
 ],
 "metadata": {
  "kernelspec": {
   "display_name": "Bash",
   "language": "bash",
   "name": "bash"
  },
  "language_info": {
   "codemirror_mode": "shell",
   "file_extension": ".sh",
   "mimetype": "text/x-sh",
   "name": "bash"
  }
 },
 "nbformat": 4,
 "nbformat_minor": 5
}
