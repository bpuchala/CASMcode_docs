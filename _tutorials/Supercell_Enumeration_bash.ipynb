{
 "cells": [
  {
   "cell_type": "markdown",
   "id": "combined-representative",
   "metadata": {},
   "source": [
    "# Introduction to Supercells\n",
    "\n",
    "Within CASM, a configuration is used to represent a single crystal state.\n",
    "\n",
    "A configuration is itself defined in terms of:\n",
    "- The primitive crystal structure and allowed degrees of freedom (DoF) (the \"prim\").\n",
    "- A supercell, which specifies the translational periodicity of the configuration. \n",
    "- DoF values, including:\n",
    "  - Site DoF \"within\" the supercell (i.e. the translationally unique part of the crystal state)\n",
    "    - Discrete occupation DoF (atom type)\n",
    "    - Continuous site DoF (displacment or magnetic spin) \n",
    "  - Continuous global DoF (strain)\n",
    "\n",
    "\n",
    "Supercells may be generated automatically when enumerating configurations, but it is also common to enumerate supercells independently and then choose which supercells to enumerate configurations in."
   ]
  },
  {
   "cell_type": "markdown",
   "id": "exact-modern",
   "metadata": {},
   "source": [
    "## Supercell lattices\n",
    "\n",
    "Supercell lattices are multiples of the prim lattice: \n",
    "\n",
    "$$ L^{scel} = L^{prim} * T, $$\n",
    "\n",
    "where:\n",
    "\n",
    "- $T$ is a 3x3 integer transformation matrix\n",
    "- $L^{scel}$ and $L^{prim}$ are the supercell and prim lattices, as column vector matrices \n"
   ]
  },
  {
   "cell_type": "markdown",
   "id": "burning-happening",
   "metadata": {},
   "source": [
    "## Equivalence of supercell lattices\n",
    "\n",
    "Two supercell lattices, $L^{scel}$ and ${L^{scel}}^{\\prime}$ are symmetrically equivalent if:\n",
    "\n",
    "$$ {L^{scel}}^{\\prime} = A*L^{scel}*T, $$\n",
    "\n",
    "where:\n",
    "\n",
    "- $A$ is a crystal point group operation matrix\n",
    "- $T$ is an integer transformation matrix\n",
    "\n",
    "Of all the symmetrically equivalent supercell lattices, CASM deterministically chooses one to be the \"canonical\" supercell lattice, based on an algorithm that favors symmetric, positive, diagonal $T$."
   ]
  },
  {
   "cell_type": "markdown",
   "id": "mysterious-hollow",
   "metadata": {},
   "source": [
    "## Supercell naming convention\n",
    "\n",
    "CASM gives supercells a unique name of the form `SCELV_A_B_C_D_E_F` based on:\n",
    "- The supercell volume, V, which is the determinant of the supercell transformation matrix, $T$\n",
    "- The six non-zero elements (A-F) of the hermite normal form of $T$. The hermite normal form \n"
   ]
  },
  {
   "cell_type": "markdown",
   "id": "equipped-delivery",
   "metadata": {},
   "source": [
    "# Supercell Enumeration\n",
    "\n",
    "The `ScelEnum` method of `enum` enables enumerating supercells. It includes options to control enumerating supercells within a range of volumes, as multiples of a non-primitive unit cell, and restricted to particular directions (i.e. 1d or 2d supercells).\n",
    "\n",
    "In the following we give examples of supercell enumeration. A complete list of `ScelEnum` method parameters can be obtained with:\n",
    "\n",
    "    ccasm enum --desc ScelEnum\n",
    "    \n",
    "The examples will all use this prim structure for the system of HCP Zr with O or vacancy occupation of the octahedral interstitial sites:"
   ]
  },
  {
   "cell_type": "code",
   "execution_count": null,
   "id": "hydraulic-government",
   "metadata": {},
   "outputs": [],
   "source": [
    "prim_str='\n",
    "{\n",
    "  \"basis\" : [\n",
    "    {\n",
    "      \"coordinate\" : [ 0.0000000, 0.0000000, 0.0000000 ],\n",
    "      \"occupants\" : [ \"Zr\" ]\n",
    "    },\n",
    "    {\n",
    "      \"coordinate\" : [ 0.6666666667, 0.3333333333, 0.5000000 ],\n",
    "      \"occupants\" : [ \"Zr\" ]\n",
    "    },\n",
    "    {\n",
    "      \"coordinate\" : [ 0.3333333333, 0.6666666667, 0.2500000 ],\n",
    "      \"occupants\" : [ \"Va\", \"O\" ]\n",
    "    },\n",
    "    {\n",
    "      \"coordinate\" : [ 0.3333333333, 0.6666666667, 0.7500000 ],\n",
    "      \"occupants\" : [ \"Va\", \"O\" ]\n",
    "    }\n",
    "  ],\n",
    "  \"coordinate_mode\" : \"Fractional\",\n",
    "  \"description\" : \"hcp Zr with octahedral interstitial O \",\n",
    "  \"lattice_vectors\" : [\n",
    "    [ 3.23398686, 0.00000000, 0.00000000 ],\n",
    "    [ -1.61699343, 2.80071477, 0.00000000 ],\n",
    "    [ -0.00000000, 0.00000000, 5.16867834 ]\n",
    "  ],\n",
    "  \"title\" : \"ZrO\"\n",
    "}'"
   ]
  },
  {
   "cell_type": "code",
   "execution_count": null,
   "id": "accepted-chuck",
   "metadata": {},
   "outputs": [],
   "source": [
    "start=$(pwd)\n",
    "mkdir -p $start/enum/ZrO && cd $start/enum/ZrO\n",
    "\n",
    "echo \"$prim_str\" > prim.json\n",
    "ccasm init"
   ]
  },
  {
   "cell_type": "markdown",
   "id": "floating-karen",
   "metadata": {},
   "source": [
    "## Enumerate supercells up to a maximum volume\n",
    "\n",
    "Enumerate all supercells of volume 4 or less."
   ]
  },
  {
   "cell_type": "code",
   "execution_count": null,
   "id": "indoor-liberty",
   "metadata": {},
   "outputs": [],
   "source": [
    "ccasm enum -m ScelEnum -i '{\"max\": 4}'"
   ]
  },
  {
   "cell_type": "markdown",
   "id": "confused-convenience",
   "metadata": {},
   "source": [
    "## Enumerate supercells within a range of volumes\n",
    "\n",
    "Enumerate all supercells of volume 6 or 7:"
   ]
  },
  {
   "cell_type": "code",
   "execution_count": null,
   "id": "incorrect-shaft",
   "metadata": {},
   "outputs": [],
   "source": [
    "ccasm enum -m ScelEnum -i '{\"min\": 6, \"max\": 7}'"
   ]
  },
  {
   "cell_type": "markdown",
   "id": "extensive-experience",
   "metadata": {},
   "source": [
    "## Enumerate supercells of a non-primitive unit cell\n",
    "\n",
    "Using the 2x2x2 supercell as the base unit cell, enumerate up to volume 4 times its volume:"
   ]
  },
  {
   "cell_type": "code",
   "execution_count": null,
   "id": "fantastic-current",
   "metadata": {},
   "outputs": [],
   "source": [
    "ccasm enum -m ScelEnum -i '{\n",
    "  \"max\": 4, \n",
    "  \"unit_cell\": [\n",
    "    [2, 0, 0],\n",
    "    [0, 2, 0],\n",
    "    [0, 0, 2]\n",
    "  ]\n",
    "}'"
   ]
  },
  {
   "cell_type": "markdown",
   "id": "southern-bobby",
   "metadata": {},
   "source": [
    "## Restrict supercell enumeration to particular directions\n",
    "\n",
    "<i>Note: The \"dirs\" values \"a\", \"b\", \"c\" indicate the first, second, and third lattice vector after applying \"unit_cell\".</i>\n",
    "\n",
    "Using the 2x2x2 supercell as the basis unit cell, enumerate 2d supercells in the HCP basal plane. "
   ]
  },
  {
   "cell_type": "code",
   "execution_count": null,
   "id": "handy-flood",
   "metadata": {},
   "outputs": [],
   "source": [
    "ccasm enum -m ScelEnum -i '{\n",
    "  \"max\": 9, \n",
    "  \"unit_cell\": [\n",
    "    [2, 0, 0],\n",
    "    [0, 2, 0],\n",
    "    [0, 0, 2]\n",
    "  ],\n",
    "  \"dirs\": \"ab\"\n",
    "}'"
   ]
  },
  {
   "cell_type": "markdown",
   "id": "southern-adaptation",
   "metadata": {},
   "source": [
    "# Selecting and Querying Enumerated Supercells\n",
    "\n",
    "Use the `-t scel` option to indicate `query` and `select` operations on supercells. CASM stores a default list of selected supercells called the `MASTER` selection within the \".casm\" directory. Other standard selections CASM defines that can be used with the `-c` option are: \n",
    "\n",
    "- `All`: all supercells in the database included and selected\n",
    "- `NONE`: all supercells in the database included but none selected\n",
    "- `EMPTY`: no supercells included\n",
    "\n",
    "_Note: `CALCULATED` is not allowed for supercells_\n",
    "\n",
    "Custom user lists can be generated with `-o <filename>` and used with `-c <filename>`."
   ]
  },
  {
   "cell_type": "markdown",
   "id": "miniature-favorite",
   "metadata": {},
   "source": [
    "## Select all enumerated supercells"
   ]
  },
  {
   "cell_type": "code",
   "execution_count": null,
   "id": "juvenile-immunology",
   "metadata": {},
   "outputs": [],
   "source": [
    "ccasm select -t scel --set-on"
   ]
  },
  {
   "cell_type": "markdown",
   "id": "brave-excitement",
   "metadata": {},
   "source": [
    "## Query properties of selected supercells\n",
    "\n",
    "- By default, the MASTER selection is queried\n",
    "- A list of properties that can be queried can be printed with:\n",
    "\n",
    "      ccasm query --help properties\n",
    " \n",
    "In this example, the supercell volume as a multiple of the prim is queried (`scel_size`) and the results are written to a file name  `all_supercells_and_size`. Since the file is large, we only print the  beginning of the file here for an example."
   ]
  },
  {
   "cell_type": "code",
   "execution_count": null,
   "id": "noble-shame",
   "metadata": {},
   "outputs": [],
   "source": [
    "ccasm query -t scel -k scel_size > all_supercells_and_size\n",
    "head all_supercells_and_size"
   ]
  },
  {
   "cell_type": "markdown",
   "id": "statistical-enzyme",
   "metadata": {},
   "source": [
    "## Combine selections and queries with operators\n",
    "\n",
    "- Queried properties can be combined through boolean and comparison operations.\n",
    "- A list of all operators can be printed with:\n",
    "\n",
    "      ccasm query --help operators\n",
    "\n",
    "This example selects all volume 4 supercells and saves them to a custom selection file named `volume_4_scel_list.txt`."
   ]
  },
  {
   "cell_type": "code",
   "execution_count": null,
   "id": "speaking-prompt",
   "metadata": {},
   "outputs": [],
   "source": [
    "ccasm select -t scel -c ALL --set 'eq(scel_size,4)' -o volume_4_scel_list.txt"
   ]
  },
  {
   "cell_type": "markdown",
   "id": "cloudy-regression",
   "metadata": {},
   "source": [
    "## Using a custom selection, writing a JSON output file\n",
    "\n",
    "This example queries some properties of just the volume 4 supercells and saves the output as a JSON file named `volume_4_props.json`. \n",
    "\n",
    "JSON output is obtained either by giving the output file a `.json` extension, or using the `--json,-j` option."
   ]
  },
  {
   "cell_type": "code",
   "execution_count": null,
   "id": "covered-invite",
   "metadata": {},
   "outputs": [],
   "source": [
    "ccasm query -t scel -c volume_4_scel_list.txt -k multiplicity pointgroup_name lattice_params -o volume_4_props.json\n",
    "head -n 30 volume_4_props.json"
   ]
  },
  {
   "cell_type": "markdown",
   "id": "unsigned-immune",
   "metadata": {},
   "source": [
    "# Getting Supercell `info`\n",
    "\n",
    "Sometimes it is useful to get information about a supercell outside of the context of a CASM project.\n",
    "\n",
    "The `info` command allows querying properties of supercells without first creating a CASM project and enumerating supercells, although it can also be used within the context of a project.\n",
    "\n",
    "The `SupercellInfo` method allows for getting information about the supercell lattice vectors, the ordering of the representation of DoF values in a configuration, permutation representations, and linear site ordering. \n",
    "\n",
    "To see a list of all supercell properties that may be obtained from the `SupercellInfo` method, and a description of their representation, use:\n",
    "\n",
    "     ccasm info --desc SupercellInfo\n",
    " "
   ]
  },
  {
   "cell_type": "markdown",
   "id": "invisible-bacteria",
   "metadata": {},
   "source": [
    "## Query supercell site coordinates\n",
    "\n",
    "This example queries the coordinates of the sites in a supercell, in Cartesian, fractional, and integral site coordinates.\n",
    "\n",
    "Fractional coordinates in this context are defined as multiples of the supercell lattice vectors.\n",
    "\n",
    "Integral site coordinates specify the position of a site using integers `[b, i, j, k]`, representing (`b`) the site's sublattice as an index into the in the prim basis, and (`i, j, k`) the unit cell it is in using multiples of the prim lattice vectors."
   ]
  },
  {
   "cell_type": "code",
   "execution_count": null,
   "id": "legal-attitude",
   "metadata": {},
   "outputs": [],
   "source": [
    "supercell_info_str=\"{\n",
    "  \\\"prim\\\":$prim_str,\n",
    "  \\\"transformation_matrix_to_super\\\": [[2, 0, 0], [0, 2, 0], [0, 0, 2]],\n",
    "  \\\"properties\\\": [\\\"cart_coordinate\\\", \\\"frac_coordinate\\\", \\\"integral_site_coordinates\\\"] \n",
    "}\"\n",
    "ccasm info -m SupercellInfo -i \"$supercell_info_str\""
   ]
  },
  {
   "cell_type": "markdown",
   "id": "featured-arkansas",
   "metadata": {},
   "source": [
    "Clean up tutorial data:"
   ]
  },
  {
   "cell_type": "code",
   "execution_count": null,
   "id": "economic-carol",
   "metadata": {},
   "outputs": [],
   "source": [
    "cd $start && rm -r $start/enum"
   ]
  }
 ],
 "metadata": {
  "kernelspec": {
   "display_name": "Bash",
   "language": "bash",
   "name": "bash"
  },
  "language_info": {
   "codemirror_mode": "shell",
   "file_extension": ".sh",
   "mimetype": "text/x-sh",
   "name": "bash"
  }
 },
 "nbformat": 4,
 "nbformat_minor": 5
}
