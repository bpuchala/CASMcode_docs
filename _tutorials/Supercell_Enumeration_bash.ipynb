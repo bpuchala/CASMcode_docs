{
 "cells": [
  {
   "cell_type": "markdown",
   "id": "combined-representative",
   "metadata": {},
   "source": [
    "# Introduction to configurations and supercells\n",
    "\n",
    "Within CASM, a configuration represents a particular periodic perturbation of the infinite crystal within the space of allowed perturbations defined by the DoF specified in the prim. A configuration may be used as an input to an effective Hamiltonian.\n",
    "\n",
    "A configuration is defined in terms of:\n",
    "- A supercell, representing the translational periodicity of the perturbation. \n",
    "- DoF values, including discrete site DoF (occupant DoF) and continuous site DoF \"within\" the supercell (i.e. the translationally unique perturbation), and the values of the continuous global DoF.\n",
    "\n",
    "Configurations are also associated with properties (i.e. energy, relaxation displacements, relaxation strain, etc.) that are dependent on the values of the DoF. CASM enables storing and looking up properties by `<calctype>` and property name, to allow for different values of the properties depending on the calculation method.\n",
    "\n",
    "Supercells may be generated automatically when enumerating configurations, but it is also common to enumerate supercells independently. "
   ]
  },
  {
   "cell_type": "markdown",
   "id": "equipped-delivery",
   "metadata": {},
   "source": [
    "## Supercell enumeration\n",
    "\n",
    "Supercell lattices are defined by $L^{scel} = L^{prim} * T$, where $T$ is a 3x3 integer transformation matrix, and $L^{scel}$ and $L^{prim}$ are the supercell and prim lattices, as column vector matrices. Two supercell lattices, $L^{scel}$ and ${L^{scel}}^{\\prime}$ are equivalent if ${L^{scel}}^{\\prime} = A*L^{scel}*T$, for any crystal point group operation matrix, $A$, and integer transformation matrix, $T$. \n",
    "\n",
    "CASM gives supercells a unique name of the form `SCELV_A_B_C_D_E_F` based on the supercell volume (V is the determinant of $T$) and the six non-zero elements (A-F) of the hermite normal form of $T$.\n",
    "\n",
    "The `ScelEnum` method of `enum` enables enumerating supercells. It includes options to control enumerating supercells within a range of volumes, as multiples of a non-primitive unit cell, and restricted to particular directions (i.e. 1d or 2d supercells). \n",
    "\n",
    "Additionally, `query` commands can be used to filter results so that only supercells that match a particular criteria are added to the project database. A list of `query` properties of supercells can be obtained with `query --help properties -t scel`.\n",
    "\n",
    "\n",
    "A list of `ScelEnum` method parameters can be obtained with:"
   ]
  },
  {
   "cell_type": "code",
   "execution_count": null,
   "id": "transparent-impact",
   "metadata": {},
   "outputs": [],
   "source": [
    "ccasm enum --desc ScelEnum"
   ]
  },
  {
   "cell_type": "markdown",
   "id": "first-journalism",
   "metadata": {},
   "source": [
    "This example will use the ZrO prim:"
   ]
  },
  {
   "cell_type": "code",
   "execution_count": null,
   "id": "hydraulic-government",
   "metadata": {},
   "outputs": [],
   "source": [
    "prim_str='\n",
    "{\n",
    "  \"basis\" : [\n",
    "    {\n",
    "      \"coordinate\" : [ 0.0000000, 0.0000000, 0.0000000 ],\n",
    "      \"occupants\" : [ \"Zr\" ]\n",
    "    },\n",
    "    {\n",
    "      \"coordinate\" : [ 0.6666666, 0.3333333, 0.5000000 ],\n",
    "      \"occupants\" : [ \"Zr\" ]\n",
    "    },\n",
    "    {\n",
    "      \"coordinate\" : [ 0.3333333, 0.6666666, 0.2500000 ],\n",
    "      \"occupants\" : [ \"Va\", \"O\" ]\n",
    "    },\n",
    "    {\n",
    "      \"coordinate\" : [ 0.3333333, 0.6666666, 0.7500000 ],\n",
    "      \"occupant_dof\" : [ \"Va\", \"O\" ]\n",
    "    }\n",
    "  ],\n",
    "  \"coordinate_mode\" : \"Fractional\",\n",
    "  \"description\" : \"hcp Zr with octahedral interstitial O \",\n",
    "  \"lattice_vectors\" : [\n",
    "    [ 3.23398686, 0.00000000, 0.00000000 ],\n",
    "    [ -1.61699343, 2.80071477, 0.00000000 ],\n",
    "    [ -0.00000000, 0.00000000, 5.16867834 ]\n",
    "  ],\n",
    "  \"title\" : \"ZrO\"\n",
    "}'"
   ]
  },
  {
   "cell_type": "code",
   "execution_count": null,
   "id": "accepted-chuck",
   "metadata": {},
   "outputs": [],
   "source": [
    "start=$(pwd)\n",
    "mkdir -p $start/enum/ZrO && cd $start/enum/ZrO\n",
    "\n",
    "echo \"$prim_str\" > prim.json\n",
    "ccasm init\n",
    "ls ."
   ]
  },
  {
   "cell_type": "markdown",
   "id": "floating-karen",
   "metadata": {},
   "source": [
    "## Enumerate supercells up to a maximum volume\n",
    "\n",
    "Enumerate all supercells of volume 4 or less."
   ]
  },
  {
   "cell_type": "code",
   "execution_count": null,
   "id": "indoor-liberty",
   "metadata": {},
   "outputs": [],
   "source": [
    "ccasm enum -m ScelEnum -i '{\"max\": 4}'"
   ]
  },
  {
   "cell_type": "markdown",
   "id": "confused-convenience",
   "metadata": {},
   "source": [
    "## Enumerate supercells within a range of volumes\n",
    "\n",
    "Enumerate all supercells of volume 6 or 7:"
   ]
  },
  {
   "cell_type": "code",
   "execution_count": null,
   "id": "incorrect-shaft",
   "metadata": {},
   "outputs": [],
   "source": [
    "ccasm enum -m ScelEnum -i '{\"min\": 6, \"max\": 7}'"
   ]
  },
  {
   "cell_type": "markdown",
   "id": "extensive-experience",
   "metadata": {},
   "source": [
    "## Enumerate supercells of a non-primitive unit cell\n",
    "\n",
    "Using the 2x2x2 supercell as the base unit cell, enumerate up to volume 4 times its volume:"
   ]
  },
  {
   "cell_type": "code",
   "execution_count": null,
   "id": "fantastic-current",
   "metadata": {},
   "outputs": [],
   "source": [
    "ccasm enum -m ScelEnum -i '{\n",
    "  \"max\": 4, \n",
    "  \"unit_cell\": [\n",
    "    [2, 0, 0],\n",
    "    [0, 2, 0],\n",
    "    [0, 0, 2]\n",
    "  ]\n",
    "}'"
   ]
  },
  {
   "cell_type": "markdown",
   "id": "southern-bobby",
   "metadata": {},
   "source": [
    "## Restrict supercell enumeration to particular directions\n",
    "\n",
    "<i>Note: The \"dirs\" values \"a\", \"b\", \"c\" indicate the first, second, and third lattice vector after applying \"unit_cell\".</i>\n",
    "\n",
    "Using the 2x2x2 supercell as the basis unit cell, enumerate 2d supercells in the HCP basal plane. "
   ]
  },
  {
   "cell_type": "code",
   "execution_count": null,
   "id": "handy-flood",
   "metadata": {},
   "outputs": [],
   "source": [
    "ccasm enum -m ScelEnum -i '{\n",
    "  \"max\": 9, \n",
    "  \"unit_cell\": [\n",
    "    [2, 0, 0],\n",
    "    [0, 2, 0],\n",
    "    [0, 0, 2]\n",
    "  ],\n",
    "  \"dirs\": \"ab\"\n",
    "}'"
   ]
  },
  {
   "cell_type": "markdown",
   "id": "southern-adaptation",
   "metadata": {},
   "source": [
    "## Use `select` and `query` to get properties of enumerated supercells\n",
    "\n",
    "Use the `-t scel` option to indicate `query` and `select` operations on supercells. CASM stores a default list of selected supercells called the `MASTER` selection within the \".casm\" directory. Other standard selections CASM defines that can be used with the `-c` option are: \n",
    "\n",
    "- `All`: all supercells in the database included and selected\n",
    "- `NONE`: all supercells in the database included but none selected\n",
    "- `EMPTY`: no supercells included\n",
    "\n",
    "_Note: `CALCULATED` is not allowed for supercells_\n",
    "\n",
    "Custom user lists can be generated with `-o <filename>` and used with `-c <filename>`."
   ]
  },
  {
   "cell_type": "code",
   "execution_count": null,
   "id": "simplified-classroom",
   "metadata": {},
   "outputs": [],
   "source": [
    "ccasm select -h"
   ]
  },
  {
   "cell_type": "code",
   "execution_count": null,
   "id": "covered-invite",
   "metadata": {},
   "outputs": [],
   "source": [
    "# select all enumerated supercells\n",
    "ccasm select -t scel --set-on\n",
    "\n",
    "# query properties of selected supercells (default uses the MASTER selection)\n",
    "ccasm query -t scel -k scel_size > all_supercells_and_size\n",
    "head all_supercells_and_size\n",
    "\n",
    "# from ALL supercells, select volume 4 supercells and save in a custom selection\n",
    "ccasm select -t scel -c ALL --set 'eq(scel_size,4)' -o volume_4_scel_list.txt\n",
    "\n",
    "# query some properties of just the volume 4 supercells, save as JSON\n",
    "ccasm query -t scel -c volume_4_scel_list.txt -k multiplicity pointgroup_name lattice_params -o volume_4_props.json\n",
    "head -n 30 volume_4_props.json"
   ]
  },
  {
   "cell_type": "markdown",
   "id": "distinguished-biography",
   "metadata": {},
   "source": [
    "## Applying symmetry to configurations and determining the canonical form\n",
    "\n",
    "_Note: This can be considered an advanced topic not necessary for all CASM users_\n",
    "\n",
    "Supercell lattice vectors determine important symmetry properties of configurations. The supercell factor group is the subset of the prim factor group that leaves the supercell lattice vectors invariant. For each supercell, CASM generates a permutation representation of the supercell factor group, `factor_group_permutations`, that describes how DoF values are permuted among sites in the supercell by supercell factor group operations. For each supercell, CASM also generates the set of `translation_permutations` which describe how DoF values are permuted among sites by lattice translations. The number of unique translations is equal to the number of prim unit cells within a supercell. \n",
    "\n",
    "Site DoF values of configurations transform under application of a symmetry operation by first applying the factor group operation (i.e. rotating a displacement vector or permuting the occupation value for an anisotropic molecule with discrete orienations) using symmetry representations generated for each prim basis site, and then applying the factor group and translation permuations to permute DoF values among sites. Two configurations are symmetrically equivalent if any combination of factor group permutation and translation permuation results in equivalent DoF values. Additionally, if application of just a translation permutation results in equivalent DoF values, then the configuration is not primitive.\n",
    "\n",
    "CASM defines an ordering among configurations with the same prim that compares, in order, supercell lattice vectors, continuous global DoF values, occupation DoF values, and continuous site DoF values. Lattices are compared using the CASM lattice comparison, and DoF values are compared using lexicographical ordering, taking into account floating point tolerances for checking equivalence of continuous DoF. Optimizations are made so that the comparison of a configuration before and after application of symmetry can be done only transforming enough DoF values to determine the result of the comparison.\n",
    "\n",
    "The canonical form of a configuration is the equivalent configuration which compares the greatest. By convention, to ease comparison when generating new configurations, the standard methods included in the CASM interface only store the canonical configuration in the CASM project's configuration database. There may be uses cases with large supercells in which it is appropriate to relax this convention. Additionally, by convention, primitive configurations are always stored and users are given a choice whether non-primitive configurations are also stored. "
   ]
  },
  {
   "cell_type": "markdown",
   "id": "neural-affect",
   "metadata": {},
   "source": [
    "## Representation of configuration DoF values\n",
    "\n",
    "_Note: This can be considered an advanced topic not necessary for all CASM users_\n",
    "\n",
    "CASM stores the DoF values of a configuration in a set of vectors and matrices, one for each type of DoF.\n",
    "\n",
    "### Occupation DoF\n",
    "\n",
    "Occupation DoF values are stored in a vector of integer of size equal to the number of sites in the supercell and sorted by sublattice. Within the block of a particular sublattice, values are ordered by unit cell. The integer value is the index of a molecule the occupants list for the prim basis site corresponding to that sublattice. Applying symmetry first transforms the value at a site (if anisotropic or ordered differently on equivalent sublattices) and then permutes the values among sites. Ex:\n",
    "\n",
    "    [<- sublattice 0 \"occ\" values -> | <- sublattice 1 \"occ\" values -> | ... ]\n",
    "\n",
    "\n",
    "### Continuous site DoF\n",
    "\n",
    "The values of the continuous site DoF of a particular type are stored in a matrix, with column index indicating the site within the supercell, and the row index indicating the component of the DoF value. This representation allows for applying factor group symmetry to each sublattice separately, with one matrix multiplication per sublattice, before permuting columns. Internally, CASM stores component values in the user-defined basis specified by the prim. However, when outputting the configuration DoF values for storage in the CASM project database and the `config.json` JSON format DoF values are converted to the standard basis of the particular DoF type (i.e. \"dx\", \"dy\", \"dz\" for displacement).\n",
    "\n",
    "#### Example: Displacement values, using the standard basis.\n",
    "\n",
    "With the prim DoF basis equal to the standard basis (dx, dy, dz) the internal and external representations are equivalent:\n",
    "\n",
    "    [<- sublattice 0 dx values -> | <- sublattice 1 dx values -> | ... ]\n",
    "    [<- sublattice 0 dy values -> | <- sublattice 1 dy values -> | ... ]\n",
    "    [<- sublattice 0 dz values -> | <- sublattice 1 dz values -> | ... ]\n",
    "\n",
    "#### Example: Displacement values, with non-standard prim DoF basis:\n",
    "\n",
    "    \"basis\" : [ {\n",
    "        \"coordinate\": [c0x, c0y, c0z],\n",
    "        \"occupants\": [...],\n",
    "        \"dofs\": {\n",
    "          \"disp\" : {\n",
    "            \"axis_names\" : [\"dxy\", \"dz\"],\n",
    "            \"axes\" : [[1.0, 1.0, 0.0],\n",
    "                    [0.0, 0.0, 1.0]]}}\n",
    "      },\n",
    "      {\n",
    "        \"coordinate\": [c1x, c1y, c1z],\n",
    "        \"occupants\": [...],\n",
    "        \"dofs\": {\n",
    "          \"disp\" : {\n",
    "            \"axis_names\" : [\"d\\bar{x}y\", \"dz\"],\n",
    "            \"axes\" : [[-1.0, 1.0, 0.0],\n",
    "                    [0.0, 0.0, 1.0]]}}\n",
    "      },\n",
    "      ...\n",
    "    }\n",
    "\n",
    "Internal representation:\n",
    "\n",
    "    [<- sublat 0 dxy values -> | <- sublat 1 d\\bar{x}y values ->| ... ]\n",
    "    [<- sublat 0 dz values  -> | <- sublat 1 dz values ->       | ... ]\n",
    "\n",
    "External representation:\n",
    "\n",
    "    [<- sublattice 0 dx values -> | <- sublattice 1 dx values -> | ... ]\n",
    "    [<- sublattice 0 dy values -> | <- sublattice 1 dy values -> | ... ]\n",
    "    [<- sublattice 0 dz values -> | <- sublattice 1 dz values -> | ... ]\n",
    "\n",
    "\n",
    "Note that the values matrix has only two rows, this is the maximum\n",
    "site basis dimension.\n",
    "\n",
    "#### Example: Displacement values, with varying prim DoF basis:\n",
    "\n",
    "    \"basis\" : [ {\n",
    "        \"coordinate\": [c0x, c0y, c0z],\n",
    "        \"occupants\": [...],\n",
    "        \"dofs\": {\n",
    "          \"disp\" : {}\n",
    "      },\n",
    "      {\n",
    "        \"coordinate\": [c1x, c1y, c1z],\n",
    "        \"occupants\": [...],\n",
    "        \"dofs\": {\n",
    "          \"disp\" : {\n",
    "            \"axis_names\" : [\"dxy\", \"dz\"],\n",
    "            \"axes\" : [[-1.0, 1.0, 0.0],\n",
    "                    [0.0, 0.0, 1.0]]}}\n",
    "      },\n",
    "      ...\n",
    "    }\n",
    "    \n",
    "Internal representation:\n",
    "\n",
    "    [<- sublattice 0 dx values -> | <- sublattice 1 dxy values ->| ... ]\n",
    "    [<- sublattice 0 dy values -> | <- sublattice 1 dz values -> | ... ]\n",
    "    [<- sublattice 0 dz values -> | <- 0.0 values ->             | ... ]\n",
    "\n",
    "Note that the values matrix has three rows, this is the maximum site basis dimension, but for sublattices with lower site basis dimension the internel representation is padded with fixed zeros.\n",
    "\n",
    "External representation:\n",
    "\n",
    "    [<- sublattice 0 dx values -> | <- sublattice 1 dx values -> | ... ]\n",
    "    [<- sublattice 0 dy values -> | <- sublattice 1 dy values -> | ... ]\n",
    "    [<- sublattice 0 dz values -> | <- sublattice 1 dz values -> | ... ]\n",
    "\n",
    "### Continuous global DoF values\n",
    "\n",
    "The values of the continuous global DoF of a particular type are stored in a vector. Similar to continuous site DoF, the internel representation is in terms of the user-specified prim basis while the externel representation is converted to the standard basis.\n",
    "\n",
    "#### Example: GLstrain values, using the standard basis.\n",
    "\n",
    "The internal representation equals the external representation:\n",
    "\n",
    "    [E_{xx}, E_{yy}, E_{zz}, \\sqrt(2)*E_{yz}, \\sqrt(2)*E_{xz}, \\sqrt(2)*E_{xy}]\n",
    "\n",
    "\n",
    "#### Example: GLstrain values, excluding shear strains.\n",
    "\n",
    "The internal representation:\n",
    "\n",
    "    [E_{xx}, E_{yy}, E_{zz}]\n",
    "\n",
    "The external representation:\n",
    "\n",
    "    [E_{xx}, E_{yy}, E_{zz}, \\sqrt(2)*E_{yz}, \\sqrt(2)*E_{xz}, \\sqrt(2)*E_{xy}]\n"
   ]
  },
  {
   "cell_type": "markdown",
   "id": "unsigned-immune",
   "metadata": {},
   "source": [
    "## Use `info` to get supercell information directly\n",
    "\n",
    "Initializing a CASM project directory and enumerating supercells is not required to get supercell information from `info`. The `SupercellInfo` method allows for getting information about the supercell lattice vectors, the ordering of the representation of DoF values in a configuration, permutation representations, and linear site ordering. "
   ]
  },
  {
   "cell_type": "code",
   "execution_count": null,
   "id": "other-latex",
   "metadata": {},
   "outputs": [],
   "source": [
    "ccasm info --desc SupercellInfo"
   ]
  },
  {
   "cell_type": "code",
   "execution_count": null,
   "id": "legal-attitude",
   "metadata": {},
   "outputs": [],
   "source": [
    "supercell_info_str=\"{\\\"prim\\\":$prim_str, \\\"transformation_matrix_to_super\\\": [[2, 0, 0], [0, 2, 0], [0, 0, 2]]}\"\n",
    "ccasm info -m SupercellInfo -i \"$supercell_info_str\" | jq \"keys\""
   ]
  },
  {
   "cell_type": "code",
   "execution_count": null,
   "id": "economic-carol",
   "metadata": {},
   "outputs": [],
   "source": [
    "cd $start && rm -r $start/enum"
   ]
  }
 ],
 "metadata": {
  "kernelspec": {
   "display_name": "Bash",
   "language": "bash",
   "name": "bash"
  },
  "language_info": {
   "codemirror_mode": "shell",
   "file_extension": ".sh",
   "mimetype": "text/x-sh",
   "name": "bash"
  }
 },
 "nbformat": 4,
 "nbformat_minor": 5
}
