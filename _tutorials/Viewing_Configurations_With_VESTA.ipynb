{
 "cells": [
  {
   "cell_type": "markdown",
   "id": "1457460a",
   "metadata": {},
   "source": [
    "### Configuration and use of `casm view`\n",
    "\n",
    "The `casm view` command is a shortcut for viewing CASM configurations in visualization software, such as VESTA. \n",
    "\n",
    "It writes POSCAR files for one or more configurations and runs a subcommand to launch a visualization program that can view those files.\n",
    "\n",
    "Often it is used with [VESTA](https://jp-minerals.org/vesta/) though it could be configured to work with other software."
   ]
  },
  {
   "cell_type": "markdown",
   "id": "a4590394",
   "metadata": {},
   "source": [
    "### Example usage\n",
    "\n",
    "- Note proper configuration depends on having VESTA installed and accessible as this example configures it. It may need to be customized for your system\n",
    "\n",
    "This example will:\n",
    "\n",
    "1. Create an example project\n",
    "2. Enumerate configurations in that project\n",
    "3. Configure `casm view` to launch VESTA\n",
    "4. View a configuration in VESTA\n",
    "5. View multiple configurations in VESTA at once"
   ]
  },
  {
   "cell_type": "code",
   "execution_count": null,
   "id": "b729290a",
   "metadata": {},
   "outputs": [],
   "source": [
    "import os\n",
    "import pathlib\n",
    "import tempfile\n",
    "tutorials_dir = os.getcwd()\n",
    "\n",
    "# use a temporary directory for the CASM project \n",
    "# - change this to where you want to create a project\n",
    "project_tmpdir = tempfile.TemporaryDirectory()\n",
    "project_path = pathlib.Path(project_tmpdir.name)\n",
    "\n",
    "# copy the ZrO prim file to the new project directory\n",
    "!cp $tutorials_dir/primfiles/ZrO_prim.json $project_path/prim.json\n",
    "\n",
    "# change the current working directory to the new project directory\n",
    "%cd $project_path\n",
    "\n",
    "# initialize the project & set default composition axes\n",
    "!ccasm init\n",
    "!ccasm composition --calc && ccasm composition --select 0\n",
    "\n",
    "# enumerate configurations up to supercell size 4\n",
    "!ccasm enum -m ConfigEnumAllOccupations --max 4"
   ]
  },
  {
   "cell_type": "markdown",
   "id": "49a2f337",
   "metadata": {},
   "source": [
    "### Create a selection at a particular composition"
   ]
  },
  {
   "cell_type": "code",
   "execution_count": null,
   "id": "14bfc6f6",
   "metadata": {},
   "outputs": [],
   "source": [
    "# view a list of configurations at composition ZrO_{1/6}\n",
    "atom_frac_O = 1./(6.+1.)\n",
    "atom_frac_O_plus = atom_frac_O + 0.01\n",
    "atom_frac_O_minus = atom_frac_O - 0.01\n",
    "!ccasm select --set 'lt(atom_frac(O),'$atom_frac_O_plus')' \n",
    "!ccasm select --set-off 'lt(atom_frac(O),'$atom_frac_O_minus')'\n",
    "!ccasm query -k 'atom_frac(O)' -o STDOUT"
   ]
  },
  {
   "cell_type": "markdown",
   "id": "0efbd1ca",
   "metadata": {},
   "source": [
    "<div class=\"alert alert-warning\">\n",
    "<b>Reminder:</b> \n",
    "    \n",
    "This is an example configuration of `casm view` to use VESTA.\n",
    "\n",
    "- It requires VESTA to be installed\n",
    "- The correct configuration on your local machine depends on your VESTA installation\n",
    "- For use on linux, try adjusting the comments to try the linux configuration.\n",
    "- To check if the configuration is successful, try the following cells\n",
    "</div>"
   ]
  },
  {
   "cell_type": "code",
   "execution_count": null,
   "id": "d0a5b9d6",
   "metadata": {},
   "outputs": [],
   "source": [
    "# example osx config: \n",
    "!ccasm settings --set-view-command \\\n",
    "   'casm.view \"open -a /Applications/VESTA/VESTA.app\"'\n",
    "\n",
    "# example linux config: \n",
    "#   casm settings --set-view-command ’casm.view VESTA’"
   ]
  },
  {
   "cell_type": "code",
   "execution_count": null,
   "id": "19786050",
   "metadata": {},
   "outputs": [],
   "source": [
    "# This might an interesting configuration to view...\n",
    "!ccasm view --confignames SCEL3_3_1_1_0_2_2/0\n",
    "\n",
    "# Note: If the configuration is correct, \n",
    "# 1 POSCAR will be printed and opened in VESTA"
   ]
  },
  {
   "cell_type": "code",
   "execution_count": null,
   "id": "105fbb7a",
   "metadata": {},
   "outputs": [],
   "source": [
    "# open all selected configurations\n",
    "!ccasm view --config MASTER\n",
    "\n",
    "# Note: If the configuration is correct, \n",
    "# 6 POSCARs will be printed and opened in VESTA"
   ]
  }
 ],
 "metadata": {
  "kernelspec": {
   "display_name": "Python 3 (ipykernel)",
   "language": "python",
   "name": "python3"
  },
  "language_info": {
   "codemirror_mode": {
    "name": "ipython",
    "version": 3
   },
   "file_extension": ".py",
   "mimetype": "text/x-python",
   "name": "python",
   "nbconvert_exporter": "python",
   "pygments_lexer": "ipython3",
   "version": "3.9.6"
  }
 },
 "nbformat": 4,
 "nbformat_minor": 5
}
